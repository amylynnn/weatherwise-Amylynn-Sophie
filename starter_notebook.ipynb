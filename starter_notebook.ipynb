{
  "cells": [
    {
      "cell_type": "markdown",
      "metadata": {
        "id": "view-in-github",
        "colab_type": "text"
      },
      "source": [
        "<a href=\"https://colab.research.google.com/github/amylynnn/weatherwise-Amylynn-Sophie/blob/main/starter_notebook.ipynb\" target=\"_parent\"><img src=\"https://colab.research.google.com/assets/colab-badge.svg\" alt=\"Open In Colab\"/></a>"
      ]
    },
    {
      "cell_type": "markdown",
      "id": "72e78a05",
      "metadata": {
        "id": "72e78a05"
      },
      "source": [
        "# 🌦️ WeatherWise\n",
        "\n"
      ]
    },
    {
      "cell_type": "code",
      "execution_count": 11,
      "id": "70c3f3f1",
      "metadata": {
        "id": "70c3f3f1",
        "colab": {
          "base_uri": "https://localhost:8080/"
        },
        "outputId": "2bffa964-b179-4e5e-db1b-c77cb0fb1f21"
      },
      "outputs": [
        {
          "output_type": "stream",
          "name": "stdout",
          "text": [
            "Requirement already satisfied: fetch-my-weather in /usr/local/lib/python3.11/dist-packages (0.4.0)\n",
            "Requirement already satisfied: requests>=2.25.0 in /usr/local/lib/python3.11/dist-packages (from fetch-my-weather) (2.32.3)\n",
            "Requirement already satisfied: pydantic>=1.8.0 in /usr/local/lib/python3.11/dist-packages (from fetch-my-weather) (2.11.4)\n",
            "Requirement already satisfied: annotated-types>=0.6.0 in /usr/local/lib/python3.11/dist-packages (from pydantic>=1.8.0->fetch-my-weather) (0.7.0)\n",
            "Requirement already satisfied: pydantic-core==2.33.2 in /usr/local/lib/python3.11/dist-packages (from pydantic>=1.8.0->fetch-my-weather) (2.33.2)\n",
            "Requirement already satisfied: typing-extensions>=4.12.2 in /usr/local/lib/python3.11/dist-packages (from pydantic>=1.8.0->fetch-my-weather) (4.13.2)\n",
            "Requirement already satisfied: typing-inspection>=0.4.0 in /usr/local/lib/python3.11/dist-packages (from pydantic>=1.8.0->fetch-my-weather) (0.4.0)\n",
            "Requirement already satisfied: charset-normalizer<4,>=2 in /usr/local/lib/python3.11/dist-packages (from requests>=2.25.0->fetch-my-weather) (3.4.1)\n",
            "Requirement already satisfied: idna<4,>=2.5 in /usr/local/lib/python3.11/dist-packages (from requests>=2.25.0->fetch-my-weather) (3.10)\n",
            "Requirement already satisfied: urllib3<3,>=1.21.1 in /usr/local/lib/python3.11/dist-packages (from requests>=2.25.0->fetch-my-weather) (2.4.0)\n",
            "Requirement already satisfied: certifi>=2017.4.17 in /usr/local/lib/python3.11/dist-packages (from requests>=2.25.0->fetch-my-weather) (2025.4.26)\n",
            "Requirement already satisfied: hands-on-ai in /usr/local/lib/python3.11/dist-packages (0.1.9)\n",
            "Requirement already satisfied: requests in /usr/local/lib/python3.11/dist-packages (from hands-on-ai) (2.32.3)\n",
            "Requirement already satisfied: typer in /usr/local/lib/python3.11/dist-packages (from hands-on-ai) (0.15.3)\n",
            "Requirement already satisfied: python-fasthtml in /usr/local/lib/python3.11/dist-packages (from hands-on-ai) (0.12.15)\n",
            "Requirement already satisfied: python-docx in /usr/local/lib/python3.11/dist-packages (from hands-on-ai) (1.1.2)\n",
            "Requirement already satisfied: pymupdf in /usr/local/lib/python3.11/dist-packages (from hands-on-ai) (1.25.5)\n",
            "Requirement already satisfied: scikit-learn in /usr/local/lib/python3.11/dist-packages (from hands-on-ai) (1.6.1)\n",
            "Requirement already satisfied: numpy in /usr/local/lib/python3.11/dist-packages (from hands-on-ai) (2.0.2)\n",
            "Requirement already satisfied: lxml>=3.1.0 in /usr/local/lib/python3.11/dist-packages (from python-docx->hands-on-ai) (5.4.0)\n",
            "Requirement already satisfied: typing-extensions>=4.9.0 in /usr/local/lib/python3.11/dist-packages (from python-docx->hands-on-ai) (4.13.2)\n",
            "Requirement already satisfied: fastcore>=1.8.1 in /usr/local/lib/python3.11/dist-packages (from python-fasthtml->hands-on-ai) (1.8.2)\n",
            "Requirement already satisfied: python-dateutil in /usr/local/lib/python3.11/dist-packages (from python-fasthtml->hands-on-ai) (2.9.0.post0)\n",
            "Requirement already satisfied: starlette>0.33 in /usr/local/lib/python3.11/dist-packages (from python-fasthtml->hands-on-ai) (0.46.2)\n",
            "Requirement already satisfied: oauthlib in /usr/local/lib/python3.11/dist-packages (from python-fasthtml->hands-on-ai) (3.2.2)\n",
            "Requirement already satisfied: itsdangerous in /usr/local/lib/python3.11/dist-packages (from python-fasthtml->hands-on-ai) (2.2.0)\n",
            "Requirement already satisfied: uvicorn>=0.30 in /usr/local/lib/python3.11/dist-packages (from uvicorn[standard]>=0.30->python-fasthtml->hands-on-ai) (0.34.2)\n",
            "Requirement already satisfied: httpx in /usr/local/lib/python3.11/dist-packages (from python-fasthtml->hands-on-ai) (0.28.1)\n",
            "Requirement already satisfied: fastlite>=0.1.1 in /usr/local/lib/python3.11/dist-packages (from python-fasthtml->hands-on-ai) (0.1.3)\n",
            "Requirement already satisfied: python-multipart in /usr/local/lib/python3.11/dist-packages (from python-fasthtml->hands-on-ai) (0.0.20)\n",
            "Requirement already satisfied: beautifulsoup4 in /usr/local/lib/python3.11/dist-packages (from python-fasthtml->hands-on-ai) (4.13.4)\n",
            "Requirement already satisfied: charset-normalizer<4,>=2 in /usr/local/lib/python3.11/dist-packages (from requests->hands-on-ai) (3.4.1)\n",
            "Requirement already satisfied: idna<4,>=2.5 in /usr/local/lib/python3.11/dist-packages (from requests->hands-on-ai) (3.10)\n",
            "Requirement already satisfied: urllib3<3,>=1.21.1 in /usr/local/lib/python3.11/dist-packages (from requests->hands-on-ai) (2.4.0)\n",
            "Requirement already satisfied: certifi>=2017.4.17 in /usr/local/lib/python3.11/dist-packages (from requests->hands-on-ai) (2025.4.26)\n",
            "Requirement already satisfied: scipy>=1.6.0 in /usr/local/lib/python3.11/dist-packages (from scikit-learn->hands-on-ai) (1.15.2)\n",
            "Requirement already satisfied: joblib>=1.2.0 in /usr/local/lib/python3.11/dist-packages (from scikit-learn->hands-on-ai) (1.4.2)\n",
            "Requirement already satisfied: threadpoolctl>=3.1.0 in /usr/local/lib/python3.11/dist-packages (from scikit-learn->hands-on-ai) (3.6.0)\n",
            "Requirement already satisfied: click>=8.0.0 in /usr/local/lib/python3.11/dist-packages (from typer->hands-on-ai) (8.1.8)\n",
            "Requirement already satisfied: shellingham>=1.3.0 in /usr/local/lib/python3.11/dist-packages (from typer->hands-on-ai) (1.5.4)\n",
            "Requirement already satisfied: rich>=10.11.0 in /usr/local/lib/python3.11/dist-packages (from typer->hands-on-ai) (13.9.4)\n",
            "Requirement already satisfied: packaging in /usr/local/lib/python3.11/dist-packages (from fastcore>=1.8.1->python-fasthtml->hands-on-ai) (24.2)\n",
            "Requirement already satisfied: apswutils>=0.0.2 in /usr/local/lib/python3.11/dist-packages (from fastlite>=0.1.1->python-fasthtml->hands-on-ai) (0.0.2)\n",
            "Requirement already satisfied: markdown-it-py>=2.2.0 in /usr/local/lib/python3.11/dist-packages (from rich>=10.11.0->typer->hands-on-ai) (3.0.0)\n",
            "Requirement already satisfied: pygments<3.0.0,>=2.13.0 in /usr/local/lib/python3.11/dist-packages (from rich>=10.11.0->typer->hands-on-ai) (2.19.1)\n",
            "Requirement already satisfied: anyio<5,>=3.6.2 in /usr/local/lib/python3.11/dist-packages (from starlette>0.33->python-fasthtml->hands-on-ai) (4.9.0)\n",
            "Requirement already satisfied: h11>=0.8 in /usr/local/lib/python3.11/dist-packages (from uvicorn>=0.30->uvicorn[standard]>=0.30->python-fasthtml->hands-on-ai) (0.16.0)\n",
            "Requirement already satisfied: httptools>=0.6.3 in /usr/local/lib/python3.11/dist-packages (from uvicorn[standard]>=0.30->python-fasthtml->hands-on-ai) (0.6.4)\n",
            "Requirement already satisfied: python-dotenv>=0.13 in /usr/local/lib/python3.11/dist-packages (from uvicorn[standard]>=0.30->python-fasthtml->hands-on-ai) (1.1.0)\n",
            "Requirement already satisfied: pyyaml>=5.1 in /usr/local/lib/python3.11/dist-packages (from uvicorn[standard]>=0.30->python-fasthtml->hands-on-ai) (6.0.2)\n",
            "Requirement already satisfied: uvloop!=0.15.0,!=0.15.1,>=0.14.0 in /usr/local/lib/python3.11/dist-packages (from uvicorn[standard]>=0.30->python-fasthtml->hands-on-ai) (0.21.0)\n",
            "Requirement already satisfied: watchfiles>=0.13 in /usr/local/lib/python3.11/dist-packages (from uvicorn[standard]>=0.30->python-fasthtml->hands-on-ai) (1.0.5)\n",
            "Requirement already satisfied: websockets>=10.4 in /usr/local/lib/python3.11/dist-packages (from uvicorn[standard]>=0.30->python-fasthtml->hands-on-ai) (15.0.1)\n",
            "Requirement already satisfied: soupsieve>1.2 in /usr/local/lib/python3.11/dist-packages (from beautifulsoup4->python-fasthtml->hands-on-ai) (2.7)\n",
            "Requirement already satisfied: httpcore==1.* in /usr/local/lib/python3.11/dist-packages (from httpx->python-fasthtml->hands-on-ai) (1.0.9)\n",
            "Requirement already satisfied: six>=1.5 in /usr/local/lib/python3.11/dist-packages (from python-dateutil->python-fasthtml->hands-on-ai) (1.17.0)\n",
            "Requirement already satisfied: sniffio>=1.1 in /usr/local/lib/python3.11/dist-packages (from anyio<5,>=3.6.2->starlette>0.33->python-fasthtml->hands-on-ai) (1.3.1)\n",
            "Requirement already satisfied: apsw in /usr/local/lib/python3.11/dist-packages (from apswutils>=0.0.2->fastlite>=0.1.1->python-fasthtml->hands-on-ai) (3.49.2.0)\n",
            "Requirement already satisfied: mdurl~=0.1 in /usr/local/lib/python3.11/dist-packages (from markdown-it-py>=2.2.0->rich>=10.11.0->typer->hands-on-ai) (0.1.2)\n",
            "Collecting pyinputplus\n",
            "  Downloading PyInputPlus-0.2.12.tar.gz (20 kB)\n",
            "  Installing build dependencies ... \u001b[?25l\u001b[?25hdone\n",
            "  Getting requirements to build wheel ... \u001b[?25l\u001b[?25hdone\n",
            "  Preparing metadata (pyproject.toml) ... \u001b[?25l\u001b[?25hdone\n",
            "Collecting pysimplevalidate>=0.2.7 (from pyinputplus)\n",
            "  Downloading PySimpleValidate-0.2.12.tar.gz (22 kB)\n",
            "  Installing build dependencies ... \u001b[?25l\u001b[?25hdone\n",
            "  Getting requirements to build wheel ... \u001b[?25l\u001b[?25hdone\n",
            "  Preparing metadata (pyproject.toml) ... \u001b[?25l\u001b[?25hdone\n",
            "Collecting stdiomask>=0.0.3 (from pyinputplus)\n",
            "  Downloading stdiomask-0.0.6.tar.gz (3.6 kB)\n",
            "  Installing build dependencies ... \u001b[?25l\u001b[?25hdone\n",
            "  Getting requirements to build wheel ... \u001b[?25l\u001b[?25hdone\n",
            "  Preparing metadata (pyproject.toml) ... \u001b[?25l\u001b[?25hdone\n",
            "Building wheels for collected packages: pyinputplus, pysimplevalidate, stdiomask\n",
            "  Building wheel for pyinputplus (pyproject.toml) ... \u001b[?25l\u001b[?25hdone\n",
            "  Created wheel for pyinputplus: filename=pyinputplus-0.2.12-py3-none-any.whl size=11348 sha256=c36c74edf24173f74296e023231d5d4129e9a7801e1835e5eb79ff744537b63f\n",
            "  Stored in directory: /root/.cache/pip/wheels/a3/6b/89/3bec14288af8e0729d088fb41a785e583d49e772f2529c7676\n",
            "  Building wheel for pysimplevalidate (pyproject.toml) ... \u001b[?25l\u001b[?25hdone\n",
            "  Created wheel for pysimplevalidate: filename=pysimplevalidate-0.2.12-py3-none-any.whl size=16224 sha256=76f6ee7f680a4af135fa73e9344afb6ba4865955d4696b40120be68441fa3970\n",
            "  Stored in directory: /root/.cache/pip/wheels/fc/40/7a/4d3b2dc2e80b4b3bbda89eec94fcefd6c8bd1101cc7bb89554\n",
            "  Building wheel for stdiomask (pyproject.toml) ... \u001b[?25l\u001b[?25hdone\n",
            "  Created wheel for stdiomask: filename=stdiomask-0.0.6-py3-none-any.whl size=3357 sha256=cef6c238407973a0b94c2212fe87fca53b75820e2a10620260f3a356e2d608a5\n",
            "  Stored in directory: /root/.cache/pip/wheels/19/0c/90/5ee0da7cf06ff7e233f273063797785d5eabf0ab9f04220866\n",
            "Successfully built pyinputplus pysimplevalidate stdiomask\n",
            "Installing collected packages: stdiomask, pysimplevalidate, pyinputplus\n",
            "Successfully installed pyinputplus-0.2.12 pysimplevalidate-0.2.12 stdiomask-0.0.6\n"
          ]
        }
      ],
      "source": [
        "# 🧪 Optional packages — uncomment if needed in Colab or JupyterHub\n",
        "!pip install fetch-my-weather\n",
        "!pip install hands-on-ai\n",
        "!pip install pyinputplus"
      ]
    },
    {
      "cell_type": "code",
      "source": [
        "import os\n",
        "\n",
        "os.environ['HANDS_ON_AI_SERVER'] = 'http://ollama.serveur.au'\n",
        "os.environ['HANDS_ON_AI_MODEL'] = 'granite3.2'\n",
        "os.environ['HANDS_ON_AI_API_KEY'] = input('Enter your API key: ')"
      ],
      "metadata": {
        "id": "B2JKlJfrGgIb"
      },
      "id": "B2JKlJfrGgIb",
      "execution_count": null,
      "outputs": []
    },
    {
      "cell_type": "markdown",
      "id": "59ae7543",
      "metadata": {
        "id": "59ae7543"
      },
      "source": [
        "## 📦 Setup and Configuration\n",
        "Import required packages and setup environment."
      ]
    },
    {
      "cell_type": "code",
      "execution_count": null,
      "id": "f1dd051e",
      "metadata": {
        "id": "f1dd051e"
      },
      "outputs": [],
      "source": [
        "import requests\n",
        "import matplotlib.pyplot as plt\n",
        "import seaborn as sns\n",
        "import plotly.express as px\n",
        "\n",
        "# I added two more codes to enhance the visualisation\n",
        "from fetch_my_weather import get_weather\n",
        "from hands_on_ai.chat import get_response\n",
        "# Typing support for cleaner, testable function signatures\n",
        "from typing import Union, List, Dict"
      ]
    },
    {
      "cell_type": "markdown",
      "id": "f736ade3",
      "metadata": {
        "id": "f736ade3"
      },
      "source": [
        "## 🌤️ Weather Data Functions"
      ]
    },
    {
      "cell_type": "code",
      "execution_count": 3,
      "id": "7a2c7cd0",
      "metadata": {
        "id": "7a2c7cd0",
        "colab": {
          "base_uri": "https://localhost:8080/"
        },
        "outputId": "ca52e032-938c-418a-b61a-3439dedad9fb"
      },
      "outputs": [
        {
          "output_type": "stream",
          "name": "stdout",
          "text": [
            "❌ Failed to fetch weather data: name 'get_weather' is not defined\n"
          ]
        }
      ],
      "source": [
        "# Define get_weather_data() function here\n",
        "from typing import Union, List, Dict\n",
        "\n",
        "def get_weather_data(location: Union[str, List[str]], forecast_days: int = 5) -> Dict[str, dict]:\n",
        "    \"\"\"\n",
        "    Fetch weather data for one or more locations and return it as a dictionary.\n",
        "\n",
        "    Args:\n",
        "        location (str or list): A single location name or a list of locations.\n",
        "        forecast_days (int): Number of forecast days to retrieve (default is 5).\n",
        "\n",
        "    Returns:\n",
        "        dict: A dictionary mapping each location to its weather data or error.\n",
        "              Format:\n",
        "              {\n",
        "                  \"Paris\": {\n",
        "                      \"current_conditions\": {...},\n",
        "                      \"forecast\": [{...}, {...}, ...]\n",
        "                  },\n",
        "                  \"InvalidCity\": {\n",
        "                      \"error\": \"Could not retrieve weather data\"\n",
        "                  }\n",
        "              }\n",
        "    \"\"\"\n",
        "    if isinstance(location, str):\n",
        "        location = [location]  # Convert single string to list\n",
        "\n",
        "    results = {}\n",
        "\n",
        "    for loc in location:\n",
        "        try:\n",
        "            weather_response = get_weather(loc)  # Assumed to return a WeatherResponse object\n",
        "            if not hasattr(weather_response, 'dict'):\n",
        "                raise TypeError(\"Weather object does not support dict() conversion.\")\n",
        "\n",
        "            weather_data = weather_response.dict()\n",
        "\n",
        "            # Safe access to forecast and current conditions\n",
        "            forecast = weather_data.get(\"forecast\", [])\n",
        "            current = weather_data.get(\"current_conditions\", {})\n",
        "\n",
        "            if not forecast:\n",
        "                raise ValueError(\"Forecast data is missing or empty.\")\n",
        "\n",
        "            # Limit forecast to specified number of days\n",
        "            results[loc] = {\n",
        "                \"current_conditions\": current or \"No current data available\",\n",
        "                \"forecast\": forecast[:forecast_days]\n",
        "            }\n",
        "\n",
        "        except Exception as e:\n",
        "            results[loc] = {\"error\": f\"Failed to retrieve weather for {loc}: {e}\"}\n",
        "\n",
        "    return results\n",
        "\n"
      ]
    },
    {
      "cell_type": "markdown",
      "id": "8a744fdc",
      "metadata": {
        "id": "8a744fdc"
      },
      "source": [
        "## 📊 Visualisation Functions"
      ]
    },
    {
      "cell_type": "code",
      "execution_count": 4,
      "id": "9dc3bf85",
      "metadata": {
        "id": "9dc3bf85"
      },
      "outputs": [],
      "source": [
        "# Define create_temperature_visualisation() and create_precipitation_visualisation() here\n",
        "import matplotlib.pyplot as plt\n",
        "\n",
        "def create_temperature_visualisation(weather_data, output_type='display'):\n",
        "    plt.style.use('seaborn-darkgrid')\n",
        "    fig, ax = plt.subplots(figsize=(10, 6))\n",
        "\n",
        "    for location, times_data in weather_data.items():\n",
        "        times = list(times_data.keys())\n",
        "        temps = [times_data[time]['temperature'] for time in times]\n",
        "        ax.plot(times, temps, marker='o', label=location)\n",
        "\n",
        "        # Optional: annotate points\n",
        "        for i, temp in enumerate(temps):\n",
        "            ax.annotate(f\"{temp}°\", (times[i], temps[i]), textcoords=\"offset points\", xytext=(0,5), ha='center', fontsize=8)\n",
        "\n",
        "    ax.set(title='Temperature Forecast', xlabel='Time Period', ylabel='Temperature (°C)')\n",
        "    ax.legend()\n",
        "    ax.grid(True)\n",
        "    plt.xticks(rotation=45)\n",
        "\n",
        "    if output_type == 'figure':\n",
        "        return fig\n",
        "    plt.show()\n",
        "\n",
        "\n"
      ]
    },
    {
      "cell_type": "code",
      "source": [
        "import matplotlib.pyplot as plt\n",
        "\n",
        "def create_precipitation_visualisation(weather_data, output_type='display'):\n",
        "    plt.style.use('seaborn-darkgrid')\n",
        "    fig, ax = plt.subplots(figsize=(10, 6))\n",
        "\n",
        "    width = 0.35  # Width of the bars\n",
        "    locations = list(weather_data.keys())\n",
        "    time_labels = list(next(iter(weather_data.values())).keys())\n",
        "    x = range(len(time_labels))\n",
        "\n",
        "    for idx, location in enumerate(locations):\n",
        "        times_data = weather_data[location]\n",
        "        precip_values = [times_data[time]['precipitation'] for time in time_labels]\n",
        "        offsets = [i + (idx * width) for i in x]\n",
        "        ax.bar(offsets, precip_values, width=width, label=location)\n",
        "\n",
        "        # annotate bars\n",
        "        for i, value in enumerate(precip_values):\n",
        "            ax.text(offsets[i], value + 1, f\"{value}%\", ha='center', fontsize=8)\n",
        "\n",
        "    ax.set(\n",
        "        title=\"Chance of Rain by Location\",\n",
        "        xlabel=\"Time Period\",\n",
        "        ylabel=\"Chance of Rain (%)\"\n",
        "    )\n",
        "    ax.set_xticks([i + width/2 for i in x])\n",
        "    ax.set_xticklabels(time_labels, rotation=45)\n",
        "    ax.legend()\n",
        "    ax.grid(True)\n",
        "\n",
        "    if output_type == 'figure':\n",
        "        return fig\n",
        "    plt.show()\n",
        "\n"
      ],
      "metadata": {
        "id": "HpOlQylYG5Ho"
      },
      "id": "HpOlQylYG5Ho",
      "execution_count": null,
      "outputs": []
    },
    {
      "cell_type": "markdown",
      "id": "9f95d160",
      "metadata": {
        "id": "9f95d160"
      },
      "source": [
        "## 🤖 Natural Language Processing"
      ]
    },
    {
      "cell_type": "code",
      "execution_count": 13,
      "id": "bcc5833e",
      "metadata": {
        "id": "bcc5833e"
      },
      "outputs": [],
      "source": [
        "# Define parse_weather_question() and generate_weather_response() here\n",
        "\n",
        "import re\n",
        "\n",
        "def parse_weather_question(question):\n",
        "\n",
        "    question = question.strip()\n",
        "\n",
        "    # Extract location: match capitalised word(s) after 'in' or end of question\n",
        "    loc_match = re.search(r'in ([A-Z][a-z]+(?: [A-Z][a-z]+)*)', question)\n",
        "    location = loc_match.group(1) if loc_match else 'your area'\n",
        "\n",
        "    # Time detection with more flexibility\n",
        "    if 'tomorrow' in question.lower():\n",
        "        time = 'tomorrow'\n",
        "    elif 'weekend' in question.lower():\n",
        "        time = 'this weekend'\n",
        "    elif re.search(r'on (Monday|Tuesday|Wednesday|Thursday|Friday|Saturday|Sunday)', question, re.IGNORECASE):\n",
        "        time = 'that day'\n",
        "    else:\n",
        "        time = 'today'\n",
        "\n",
        "    # Detect attribute\n",
        "    attribute = 'general'\n",
        "    for attr in ['temperature', 'rain', 'snow', 'wind', 'humidity']:\n",
        "        if attr in question.lower():\n",
        "            attribute = attr\n",
        "            break\n",
        "\n",
        "    return {'location': location, 'time_period': time, 'attribute': attribute}\n",
        "\n",
        "def generate_weather_response(parsed, data):\n",
        "    loc = parsed['location']\n",
        "    time = parsed['time_period']\n",
        "    attr = parsed['attribute']\n",
        "\n",
        "    if loc not in data or time not in data[loc]:\n",
        "        return f\"❌ Sorry, no forecast available for {loc} {time}.\"\n",
        "\n",
        "    forecast = data[loc][time]\n",
        "\n",
        "    # Handle each attribute\n",
        "    if attr == 'temperature':\n",
        "        return f\"🌡️ Temperature in {loc} {time} is {forecast.get('temperature', 'unknown')}°C.\"\n",
        "    elif attr == 'rain':\n",
        "        rain = '🌧️ rain' if forecast.get('rain') else '☀️ no rain'\n",
        "        return f\"Expected: {rain} in {loc} {time}.\"\n",
        "    elif attr == 'snow':\n",
        "        snow = '❄️ snow' if forecast.get('snow') else 'no snow'\n",
        "        return f\"Expected: {snow} in {loc} {time}.\"\n",
        "    elif attr == 'wind':\n",
        "        return f\"💨 Wind speed in {loc} {time} is {forecast.get('wind', 'unknown')} km/h.\"\n",
        "    elif attr == 'humidity':\n",
        "        return f\"💧 Humidity in {loc} {time} is {forecast.get('humidity', 'unknown')}%.\"\n",
        "    else:\n",
        "        # General response\n",
        "        temp = forecast.get('temperature', 'unknown')\n",
        "        rain = 'rain' if forecast.get('rain') else 'no rain'\n",
        "        return f\"In {loc} {time}, temperature is {temp}°C with {rain}.\"\n",
        "\n"
      ]
    },
    {
      "cell_type": "markdown",
      "id": "0d85225e",
      "metadata": {
        "id": "0d85225e"
      },
      "source": [
        "## 🧭 User Interface"
      ]
    },
    {
      "cell_type": "code",
      "execution_count": 14,
      "id": "fa6cb0f6",
      "metadata": {
        "id": "fa6cb0f6"
      },
      "outputs": [],
      "source": [
        "# Define menu functions using pyinputplus or ipywidgets here\n",
        "\n",
        "import pyinputplus as pyip\n",
        "\n",
        "def main_menu():\n",
        "    print(\"\\n=== 🌦️ Weather Assistant Menu ===\")\n",
        "    return pyip.inputMenu(\n",
        "        ['Ask Weather Question', 'Visualize Weather Data', 'Exit'],\n",
        "        numbered=True,\n",
        "        prompt=\"Select an option:\\n\",\n",
        "        blank=False,\n",
        "        limit=3,\n",
        "        retries=2,\n",
        "        default='Exit'\n",
        "    )\n",
        "\n",
        "def visualization_menu():\n",
        "    return pyip.inputMenu(\n",
        "        ['Temperature', 'Precipitation', 'Back to Main Menu'],\n",
        "        numbered=True,\n",
        "        prompt=\"Choose a visualization type:\\n\",\n",
        "        blank=False,\n",
        "        limit=3,\n",
        "        retries=2,\n",
        "        default='Back to Main Menu'\n",
        "    )\n",
        "\n",
        "def run_interface():\n",
        "    while True:\n",
        "        choice = main_menu()\n",
        "\n",
        "        if choice == 'Ask Weather Question':\n",
        "            # Call weather question function here\n",
        "            print(\"👉 You chose to ask a weather question.\")\n",
        "\n",
        "        elif choice == 'Visualize Weather Data':\n",
        "            while True:\n",
        "                sub_choice = visualization_menu()\n",
        "                if sub_choice == 'Temperature':\n",
        "                    print(\"📈 Showing temperature chart...\")\n",
        "                elif sub_choice == 'Precipitation':\n",
        "                    print(\"🌧️ Showing precipitation chart...\")\n",
        "                elif sub_choice == 'Back to Main Menu':\n",
        "                    break\n",
        "\n",
        "        elif choice == 'Exit':\n",
        "            print(\"👋 Exiting Weather Assistant. Stay safe!\")\n",
        "            break\n",
        "\n",
        "return pyip.inputMenu(\n",
        "    ['(A) Ask Weather Question', '(V) Visualize Weather Data', '(E) Exit'],\n",
        "    numbered=False,\n",
        "    lettered=True\n",
        ")\n"
      ]
    },
    {
      "cell_type": "markdown",
      "id": "d643a53c",
      "metadata": {
        "id": "d643a53c"
      },
      "source": [
        "## 🧩 Main Application Logic"
      ]
    },
    {
      "cell_type": "code",
      "execution_count": null,
      "id": "a9e2e805",
      "metadata": {
        "id": "a9e2e805"
      },
      "outputs": [],
      "source": [
        "# Tie everything together here\n",
        "def generate_weather_response(parsed_question, weather_data):\n",
        "    \"\"\"\n",
        "    Generate a natural language response to a weather question.\n",
        "\n",
        "    Args:\n",
        "        parsed_question (dict): Parsed question data\n",
        "        weather_data (dict): Weather data\n",
        "\n",
        "    Returns:\n",
        "        str: Natural language response\n",
        "    \"\"\"\n",
        "    pass"
      ]
    },
    {
      "cell_type": "markdown",
      "id": "fde44479",
      "metadata": {
        "id": "fde44479"
      },
      "source": [
        "## 🧪 Testing and Examples"
      ]
    },
    {
      "cell_type": "code",
      "execution_count": null,
      "id": "4e573901",
      "metadata": {
        "id": "4e573901"
      },
      "outputs": [],
      "source": [
        "# Include sample input/output for each function\n",
        "\n",
        "#🌤️ Weather Data Functions\n",
        "\n",
        "#Sample 1; My code.\n",
        "def get_weather_data(location, forecast_days=5):\n",
        "    try:\n",
        "        weather_obj = get_weather(location)\n",
        "        data = weather_obj.dict()\n",
        "        if \"forecast\" in data:\n",
        "            data[\"forecast\"] = data[\"forecast\"][:forecast_days]\n",
        "\n",
        "        return data\n",
        "\n",
        "    except Exception as e:\n",
        "        return {\"error\": str(e)}\n",
        "\n",
        "test_location = \"Sydney\"\n",
        "weather = get_weather_data(test_location)\n",
        "\n",
        "if \"error\" in weather:\n",
        "    print(f\"Failed to fetch weather data: {weather['error']}\")\n",
        "else:\n",
        "    print(f\"Current weather in {test_location}:\")\n",
        "    print(weather.get(\"current_conditions\", \"No current conditions available.\"))\n",
        "    print(\"\\nForecast:\")\n",
        "    for day in weather.get(\"forecast\", []):\n",
        "        print(day)\n",
        "\n",
        "#Sample 2; improved version provided by Chatgbt.\n",
        "def generate_weather_response(parsed, data, temp_unit='Celsius', wind_unit='km/h'):\n",
        "    loc = parsed['location']\n",
        "    time = parsed['time_period']\n",
        "    attr = parsed['attribute']\n",
        "\n",
        "    if loc not in data or time not in data[loc]:\n",
        "        return f\"❌ No forecast available for {loc} {time}.\"\n",
        "\n",
        "    forecast = data[loc][time]\n",
        "\n",
        "    if attr == 'temperature':\n",
        "        temp_c = forecast.get('temperature', 'unknown')\n",
        "        if isinstance(temp_c, (int, float)):\n",
        "            temp = convert_temperature(temp_c, temp_unit)\n",
        "            unit_symbol = '°F' if temp_unit == 'Fahrenheit' else '°C'\n",
        "            return f\"🌡️ Temperature in {loc} {time} is {temp}{unit_symbol}.\"\n",
        "        return \"Temperature data unavailable.\"\n",
        "\n",
        "    elif attr == 'wind':\n",
        "        wind_kmh = forecast.get('wind', 'unknown')\n",
        "        if isinstance(wind_kmh, (int, float)):\n",
        "            wind = convert_wind_speed(wind_kmh, wind_unit)\n",
        "            return f\"💨 Wind speed in {loc} {time} is {wind} {wind_unit}.\"\n",
        "        return \"Wind data unavailable.\"\n",
        "\n",
        "#Example Use (for the final version) provided by Chatgbt.\n",
        "locations = [\"London\", \"FakeCity\", \"Sydney\"]\n",
        "weather = get_weather_data(locations)\n",
        "\n",
        "for loc, result in weather.items():\n",
        "    if \"error\" in result:\n",
        "        print(f\"❌ {loc}: {result['error']}\")\n",
        "    else:\n",
        "        print(f\"✅ {loc} — Current: {result['current_conditions']}\")\n",
        "        print(\"Forecast:\")\n",
        "        for day in result['forecast']:\n",
        "            print(day)\n",
        "\n"
      ]
    }
  ],
  "metadata": {
    "language_info": {
      "name": "python"
    },
    "colab": {
      "provenance": [],
      "include_colab_link": true
    },
    "kernelspec": {
      "name": "python3",
      "display_name": "Python 3"
    }
  },
  "nbformat": 4,
  "nbformat_minor": 5
}